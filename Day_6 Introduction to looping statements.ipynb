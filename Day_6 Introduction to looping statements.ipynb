{
 "cells": [
  {
   "cell_type": "code",
   "execution_count": 5,
   "id": "198e2b0f",
   "metadata": {},
   "outputs": [
    {
     "name": "stdout",
     "output_type": "stream",
     "text": [
      "['kranti', 'sherya', 'pooa', 'imran', 'sajid', 'aliya', 'namitha']\n"
     ]
    },
    {
     "data": {
      "text/plain": [
       "list"
      ]
     },
     "execution_count": 5,
     "metadata": {},
     "output_type": "execute_result"
    }
   ],
   "source": [
    "students=['kranti','sherya','pooa','imran','sajid','aliya','namitha']\n",
    "print(students)\n",
    "type(students)"
   ]
  },
  {
   "cell_type": "code",
   "execution_count": 6,
   "id": "1f025f8f",
   "metadata": {},
   "outputs": [
    {
     "name": "stdout",
     "output_type": "stream",
     "text": [
      "keep up the good work,kranti\n",
      "keep up the good work,Sherya\n"
     ]
    }
   ],
   "source": [
    "print(f\"keep up the good work,{students[0]}\")\n",
    "print(f\"keep up the good work,{students[1].title()}\")"
   ]
  },
  {
   "cell_type": "code",
   "execution_count": 7,
   "id": "cc30d510",
   "metadata": {},
   "outputs": [
    {
     "name": "stdout",
     "output_type": "stream",
     "text": [
      "Keep up the good work,Kranti\n",
      "Keep up the good work,Sherya\n",
      "Keep up the good work,Pooa\n",
      "Keep up the good work,Imran\n",
      "Keep up the good work,Sajid\n",
      "Keep up the good work,Aliya\n",
      "Keep up the good work,Namitha\n"
     ]
    }
   ],
   "source": [
    "for x in students:\n",
    "    print(f'Keep up the good work,{x.title()}')"
   ]
  },
  {
   "cell_type": "code",
   "execution_count": 8,
   "id": "03a4e804",
   "metadata": {},
   "outputs": [
    {
     "name": "stdout",
     "output_type": "stream",
     "text": [
      "Keep up the good work,Kranti\n",
      "Keep up the good work,Sherya\n",
      "Keep up the good work,Pooa\n",
      "Keep up the good work,Imran\n",
      "Keep up the good work,Sajid\n",
      "Keep up the good work,Aliya\n",
      "Keep up the good work,Namitha\n"
     ]
    }
   ],
   "source": [
    "for imran in students:\n",
    "    print(f'Keep up the good work,{imran.title()}')"
   ]
  },
  {
   "cell_type": "code",
   "execution_count": 9,
   "id": "f306f797",
   "metadata": {},
   "outputs": [
    {
     "name": "stdout",
     "output_type": "stream",
     "text": [
      "Please do send me the practice files of today,Kranti\n",
      "Please do send me the practice files of today,Sherya\n",
      "Please do send me the practice files of today,Pooa\n",
      "Please do send me the practice files of today,Imran\n",
      "Please do send me the practice files of today,Sajid\n",
      "Please do send me the practice files of today,Aliya\n",
      "Please do send me the practice files of today,Namitha\n"
     ]
    }
   ],
   "source": [
    "for x in students:\n",
    "    print(f'Please do send me the practice files of today,{x.title()}')"
   ]
  },
  {
   "cell_type": "code",
   "execution_count": null,
   "id": "71359f7e",
   "metadata": {},
   "outputs": [],
   "source": [
    "# enhancement of the code"
   ]
  },
  {
   "cell_type": "code",
   "execution_count": 10,
   "id": "c85d6d3a",
   "metadata": {},
   "outputs": [
    {
     "name": "stdout",
     "output_type": "stream",
     "text": [
      "Keep up the good work,Kranti\n",
      "Please do send me the practice files of today,Kranti\n",
      "\n",
      "Thank you all for showing interest to learn python\n",
      "Keep up the good work,Sherya\n",
      "Please do send me the practice files of today,Sherya\n",
      "\n",
      "Thank you all for showing interest to learn python\n",
      "Keep up the good work,Pooa\n",
      "Please do send me the practice files of today,Pooa\n",
      "\n",
      "Thank you all for showing interest to learn python\n",
      "Keep up the good work,Imran\n",
      "Please do send me the practice files of today,Imran\n",
      "\n",
      "Thank you all for showing interest to learn python\n",
      "Keep up the good work,Sajid\n",
      "Please do send me the practice files of today,Sajid\n",
      "\n",
      "Thank you all for showing interest to learn python\n",
      "Keep up the good work,Aliya\n",
      "Please do send me the practice files of today,Aliya\n",
      "\n",
      "Thank you all for showing interest to learn python\n",
      "Keep up the good work,Namitha\n",
      "Please do send me the practice files of today,Namitha\n",
      "\n",
      "Thank you all for showing interest to learn python\n"
     ]
    }
   ],
   "source": [
    "for x in students:\n",
    "    print(f'Keep up the good work,{x.title()}')\n",
    "    print(f'Please do send me the practice files of today,{x.title()}\\n')\n",
    "    print('Thank you all for showing interest to learn python')"
   ]
  },
  {
   "cell_type": "code",
   "execution_count": 13,
   "id": "af2b0690",
   "metadata": {},
   "outputs": [
    {
     "name": "stdout",
     "output_type": "stream",
     "text": [
      "Keep up the good work,Kranti\n",
      "Please do send me the practice files of today,Kranti\n",
      "\n",
      "THANK YOU ALL FOR SHOWING INTEREST TO LEARN PYTHON\n",
      "\n",
      "Keep up the good work,Sherya\n",
      "Please do send me the practice files of today,Sherya\n",
      "\n",
      "THANK YOU ALL FOR SHOWING INTEREST TO LEARN PYTHON\n",
      "\n",
      "Keep up the good work,Pooa\n",
      "Please do send me the practice files of today,Pooa\n",
      "\n",
      "THANK YOU ALL FOR SHOWING INTEREST TO LEARN PYTHON\n",
      "\n",
      "Keep up the good work,Imran\n",
      "Please do send me the practice files of today,Imran\n",
      "\n",
      "THANK YOU ALL FOR SHOWING INTEREST TO LEARN PYTHON\n",
      "\n",
      "Keep up the good work,Sajid\n",
      "Please do send me the practice files of today,Sajid\n",
      "\n",
      "THANK YOU ALL FOR SHOWING INTEREST TO LEARN PYTHON\n",
      "\n",
      "Keep up the good work,Aliya\n",
      "Please do send me the practice files of today,Aliya\n",
      "\n",
      "THANK YOU ALL FOR SHOWING INTEREST TO LEARN PYTHON\n",
      "\n",
      "Keep up the good work,Namitha\n",
      "Please do send me the practice files of today,Namitha\n",
      "\n",
      "THANK YOU ALL FOR SHOWING INTEREST TO LEARN PYTHON\n",
      "\n"
     ]
    }
   ],
   "source": [
    "for x in students:\n",
    "    print(f'Keep up the good work,{x.title()}')\n",
    "    print(f'Please do send me the practice files of today,{x.title()}\\n')\n",
    "    print('Thank you all for showing interest to learn python\\n'.upper())"
   ]
  },
  {
   "cell_type": "code",
   "execution_count": null,
   "id": "fe904f76",
   "metadata": {},
   "outputs": [],
   "source": []
  },
  {
   "cell_type": "code",
   "execution_count": null,
   "id": "b9476e34",
   "metadata": {},
   "outputs": [],
   "source": []
  },
  {
   "cell_type": "code",
   "execution_count": null,
   "id": "4e65fcc8",
   "metadata": {},
   "outputs": [],
   "source": []
  },
  {
   "cell_type": "code",
   "execution_count": null,
   "id": "b38456ed",
   "metadata": {},
   "outputs": [],
   "source": []
  },
  {
   "cell_type": "code",
   "execution_count": null,
   "id": "96422b9f",
   "metadata": {},
   "outputs": [],
   "source": []
  },
  {
   "cell_type": "code",
   "execution_count": null,
   "id": "ff0ad071",
   "metadata": {},
   "outputs": [],
   "source": []
  },
  {
   "cell_type": "code",
   "execution_count": null,
   "id": "57ca7d19",
   "metadata": {},
   "outputs": [],
   "source": []
  },
  {
   "cell_type": "code",
   "execution_count": null,
   "id": "412cd0f6",
   "metadata": {},
   "outputs": [],
   "source": []
  },
  {
   "cell_type": "code",
   "execution_count": null,
   "id": "2ecc96a7",
   "metadata": {},
   "outputs": [],
   "source": []
  },
  {
   "cell_type": "code",
   "execution_count": null,
   "id": "282bfa1b",
   "metadata": {},
   "outputs": [],
   "source": []
  },
  {
   "cell_type": "code",
   "execution_count": null,
   "id": "865494a6",
   "metadata": {},
   "outputs": [],
   "source": []
  }
 ],
 "metadata": {
  "kernelspec": {
   "display_name": "Python 3",
   "language": "python",
   "name": "python3"
  },
  "language_info": {
   "codemirror_mode": {
    "name": "ipython",
    "version": 3
   },
   "file_extension": ".py",
   "mimetype": "text/x-python",
   "name": "python",
   "nbconvert_exporter": "python",
   "pygments_lexer": "ipython3",
   "version": "3.8.8"
  }
 },
 "nbformat": 4,
 "nbformat_minor": 5
}
