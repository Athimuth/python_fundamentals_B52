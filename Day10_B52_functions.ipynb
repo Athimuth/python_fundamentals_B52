{
 "cells": [
  {
   "cell_type": "code",
   "execution_count": null,
   "id": "c2efcbc4",
   "metadata": {},
   "outputs": [],
   "source": [
    "# Introduction to functions in python"
   ]
  },
  {
   "cell_type": "code",
   "execution_count": 1,
   "id": "0f2db7d7",
   "metadata": {},
   "outputs": [
    {
     "name": "stdout",
     "output_type": "stream",
     "text": [
      "The Zen of Python, by Tim Peters\n",
      "\n",
      "Beautiful is better than ugly.\n",
      "Explicit is better than implicit.\n",
      "Simple is better than complex.\n",
      "Complex is better than complicated.\n",
      "Flat is better than nested.\n",
      "Sparse is better than dense.\n",
      "Readability counts.\n",
      "Special cases aren't special enough to break the rules.\n",
      "Although practicality beats purity.\n",
      "Errors should never pass silently.\n",
      "Unless explicitly silenced.\n",
      "In the face of ambiguity, refuse the temptation to guess.\n",
      "There should be one-- and preferably only one --obvious way to do it.\n",
      "Although that way may not be obvious at first unless you're Dutch.\n",
      "Now is better than never.\n",
      "Although never is often better than *right* now.\n",
      "If the implementation is hard to explain, it's a bad idea.\n",
      "If the implementation is easy to explain, it may be a good idea.\n",
      "Namespaces are one honking great idea -- let's do more of those!\n"
     ]
    }
   ],
   "source": [
    "import this"
   ]
  },
  {
   "cell_type": "code",
   "execution_count": null,
   "id": "11337905",
   "metadata": {},
   "outputs": [],
   "source": []
  },
  {
   "cell_type": "code",
   "execution_count": null,
   "id": "f29bbe01",
   "metadata": {},
   "outputs": [],
   "source": [
    "# create a greet function"
   ]
  },
  {
   "cell_type": "code",
   "execution_count": 2,
   "id": "07452590",
   "metadata": {},
   "outputs": [
    {
     "name": "stdout",
     "output_type": "stream",
     "text": [
      "Hello..!!!\n"
     ]
    }
   ],
   "source": [
    "def greet():\n",
    "    print(\"Hello..!!!\")\n",
    "    \n",
    "greet()"
   ]
  },
  {
   "cell_type": "code",
   "execution_count": null,
   "id": "b7d0d6c0",
   "metadata": {},
   "outputs": [],
   "source": [
    "# req : create a function to greet the user that we are passing to the function"
   ]
  },
  {
   "cell_type": "code",
   "execution_count": 16,
   "id": "7f6ae973",
   "metadata": {},
   "outputs": [
    {
     "name": "stdout",
     "output_type": "stream",
     "text": [
      "Hello,Anu\n"
     ]
    }
   ],
   "source": [
    "def greetuser(username):\n",
    "    print(f\"Hello,{username.title()}\")\n",
    "greetuser('anu')"
   ]
  },
  {
   "cell_type": "code",
   "execution_count": 17,
   "id": "f0e876c3",
   "metadata": {},
   "outputs": [
    {
     "name": "stdout",
     "output_type": "stream",
     "text": [
      "Hello,Geetika\n"
     ]
    }
   ],
   "source": [
    "greetuser('geetika')"
   ]
  },
  {
   "cell_type": "code",
   "execution_count": 18,
   "id": "c696f190",
   "metadata": {},
   "outputs": [
    {
     "name": "stdout",
     "output_type": "stream",
     "text": [
      "Hello,Anoop\n"
     ]
    }
   ],
   "source": [
    "greetuser('anoop')"
   ]
  },
  {
   "cell_type": "code",
   "execution_count": 20,
   "id": "31eaaf12",
   "metadata": {},
   "outputs": [
    {
     "name": "stdout",
     "output_type": "stream",
     "text": [
      "Hello,GEETIKA\n"
     ]
    }
   ],
   "source": [
    "def greetuser(username):\n",
    "    print(f\"Hello,{username.upper()}\")\n",
    "greetuser('geetika')"
   ]
  },
  {
   "cell_type": "code",
   "execution_count": 22,
   "id": "976cc096",
   "metadata": {},
   "outputs": [
    {
     "name": "stdout",
     "output_type": "stream",
     "text": [
      "I have a dog\n",
      "my dog's name is rex\n",
      "I have a cat\n",
      "my cat's name is fari\n",
      "I have a fish\n",
      "my fish's name is goldy\n"
     ]
    }
   ],
   "source": [
    "Types of Arguments\n",
    "1. Positional Arguments\n",
    "\n",
    "#req : Create a describe_pet function where in it takes 2 parameters below\n",
    "1. animaltype,  2. petname\n",
    "\n",
    "def describe_pet(animaltype,petname):\n",
    "    print(f\"I have a {animaltype}\")\n",
    "    print(f\"my {animaltype}'s name is {petname}\")\n",
    "describe_pet('dog','rex')\n",
    "describe_pet('cat','fari')\n",
    "describe_pet('fish','goldy')"
   ]
  },
  {
   "cell_type": "code",
   "execution_count": null,
   "id": "8ec90313",
   "metadata": {},
   "outputs": [],
   "source": [
    "# by default functions will be having the poitional arguments"
   ]
  },
  {
   "cell_type": "code",
   "execution_count": null,
   "id": "9382d614",
   "metadata": {},
   "outputs": [],
   "source": [
    "2. Keywoed arguments\n",
    "req: animaltype -->assumed to be the dog where declare the default argument"
   ]
  },
  {
   "cell_type": "code",
   "execution_count": 34,
   "id": "0ce57a12",
   "metadata": {},
   "outputs": [
    {
     "ename": "SyntaxError",
     "evalue": "non-default argument follows default argument (<ipython-input-34-53dc96daaac6>, line 1)",
     "output_type": "error",
     "traceback": [
      "\u001b[1;36m  File \u001b[1;32m\"<ipython-input-34-53dc96daaac6>\"\u001b[1;36m, line \u001b[1;32m1\u001b[0m\n\u001b[1;33m    def describe_pet(animaltype='dog',petname):\u001b[0m\n\u001b[1;37m                     ^\u001b[0m\n\u001b[1;31mSyntaxError\u001b[0m\u001b[1;31m:\u001b[0m non-default argument follows default argument\n"
     ]
    }
   ],
   "source": [
    "def describe_pet(animaltype='dog',petname):\n",
    "    print(f\"I have a {animaltype}\")\n",
    "    print(f\"my {animaltype}'s name is {petname}\")\n",
    "    \n",
    "describe_pet(animaltype='dog','bruno')"
   ]
  },
  {
   "cell_type": "code",
   "execution_count": 31,
   "id": "e9149675",
   "metadata": {},
   "outputs": [
    {
     "name": "stdout",
     "output_type": "stream",
     "text": [
      "I have a dog\n",
      "my dog's name is chikku\n"
     ]
    }
   ],
   "source": [
    "def describe_pet(petname,animaltype='dog'):\n",
    "    print(f\"I have a {animaltype}\")\n",
    "    print(f\"my {animaltype}'s name is {petname}\")\n",
    "    \n",
    "describe_pet('chikku',animaltype='dog')"
   ]
  },
  {
   "cell_type": "code",
   "execution_count": null,
   "id": "1adf69d8",
   "metadata": {},
   "outputs": [],
   "source": []
  },
  {
   "cell_type": "code",
   "execution_count": null,
   "id": "64bfdba5",
   "metadata": {},
   "outputs": [],
   "source": []
  },
  {
   "cell_type": "code",
   "execution_count": null,
   "id": "bc669d0f",
   "metadata": {},
   "outputs": [],
   "source": []
  },
  {
   "cell_type": "code",
   "execution_count": null,
   "id": "d7d248a2",
   "metadata": {},
   "outputs": [],
   "source": []
  },
  {
   "cell_type": "code",
   "execution_count": null,
   "id": "8ffdd62d",
   "metadata": {},
   "outputs": [],
   "source": []
  },
  {
   "cell_type": "code",
   "execution_count": null,
   "id": "1cd88394",
   "metadata": {},
   "outputs": [],
   "source": []
  }
 ],
 "metadata": {
  "kernelspec": {
   "display_name": "Python 3",
   "language": "python",
   "name": "python3"
  },
  "language_info": {
   "codemirror_mode": {
    "name": "ipython",
    "version": 3
   },
   "file_extension": ".py",
   "mimetype": "text/x-python",
   "name": "python",
   "nbconvert_exporter": "python",
   "pygments_lexer": "ipython3",
   "version": "3.8.8"
  }
 },
 "nbformat": 4,
 "nbformat_minor": 5
}
