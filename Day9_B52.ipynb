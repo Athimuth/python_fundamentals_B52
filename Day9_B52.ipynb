{
 "cells": [
  {
   "cell_type": "code",
   "execution_count": null,
   "id": "0705cf8a",
   "metadata": {},
   "outputs": [],
   "source": [
    "#Continuation with dictionaries"
   ]
  },
  {
   "cell_type": "code",
   "execution_count": 1,
   "id": "67e1886b",
   "metadata": {},
   "outputs": [
    {
     "name": "stdout",
     "output_type": "stream",
     "text": [
      "{'color': 'green', 'point': 5}\n"
     ]
    }
   ],
   "source": [
    "alien={'color':'green','point':5}\n",
    "print(alien)"
   ]
  },
  {
   "cell_type": "code",
   "execution_count": null,
   "id": "27207aa0",
   "metadata": {},
   "outputs": [],
   "source": [
    "# how to access data from dict"
   ]
  },
  {
   "cell_type": "code",
   "execution_count": null,
   "id": "f32b68f3",
   "metadata": {},
   "outputs": [],
   "source": [
    "req : i want to know the color of an alien"
   ]
  },
  {
   "cell_type": "code",
   "execution_count": 3,
   "id": "d37e6f3e",
   "metadata": {},
   "outputs": [
    {
     "name": "stdout",
     "output_type": "stream",
     "text": [
      "green\n"
     ]
    }
   ],
   "source": [
    "print(alien['color'])"
   ]
  },
  {
   "cell_type": "code",
   "execution_count": null,
   "id": "f5947972",
   "metadata": {},
   "outputs": [],
   "source": [
    "# to add new key-value pair to the dictionary"
   ]
  },
  {
   "cell_type": "code",
   "execution_count": 4,
   "id": "1579ff34",
   "metadata": {},
   "outputs": [
    {
     "name": "stdout",
     "output_type": "stream",
     "text": [
      "{'color': 'green', 'point': 5, 'starting_point': 0}\n"
     ]
    }
   ],
   "source": [
    "alien['starting_point']=0\n",
    "print(alien)"
   ]
  },
  {
   "cell_type": "code",
   "execution_count": 5,
   "id": "347a242d",
   "metadata": {},
   "outputs": [
    {
     "name": "stdout",
     "output_type": "stream",
     "text": [
      "{'color': 'green', 'point': 5, 'starting_point': 0, 'current_position': 10}\n"
     ]
    }
   ],
   "source": [
    "alien['current_position']=10\n",
    "print(alien)"
   ]
  },
  {
   "cell_type": "code",
   "execution_count": null,
   "id": "47f8a90d",
   "metadata": {},
   "outputs": [],
   "source": [
    "# how to modify the values of a particular key\n",
    "req : change color to yellow & points==>10"
   ]
  },
  {
   "cell_type": "code",
   "execution_count": 10,
   "id": "f65e6f68",
   "metadata": {},
   "outputs": [
    {
     "name": "stdout",
     "output_type": "stream",
     "text": [
      "{'color': 'yellow', 'point': 5, 'starting_point': 0, 'current_position': 10, 'points': 10}\n"
     ]
    }
   ],
   "source": [
    "alien['color']='yellow'\n",
    "alien['points']=10\n",
    "print(alien)"
   ]
  },
  {
   "cell_type": "code",
   "execution_count": null,
   "id": "c305a8aa",
   "metadata": {},
   "outputs": [],
   "source": []
  },
  {
   "cell_type": "code",
   "execution_count": null,
   "id": "6e83b0be",
   "metadata": {},
   "outputs": [],
   "source": [
    "# req : create a facebook useraccount"
   ]
  },
  {
   "cell_type": "code",
   "execution_count": 11,
   "id": "41311f53",
   "metadata": {},
   "outputs": [
    {
     "name": "stdout",
     "output_type": "stream",
     "text": [
      "{'username': 'codetraining accademy', 'first name': 'code training', 'last name': 'accademy', 'dob': '01-01-1999', 'pwd': '543652'}\n"
     ]
    }
   ],
   "source": [
    "useraccount={'username':'codetraining accademy','first name':'code training','last name':'accademy','dob':'01-01-1999','pwd':'543652'}\n",
    "print(useraccount)"
   ]
  },
  {
   "cell_type": "code",
   "execution_count": null,
   "id": "589e78bf",
   "metadata": {},
   "outputs": [],
   "source": []
  },
  {
   "cell_type": "code",
   "execution_count": null,
   "id": "37bceefe",
   "metadata": {},
   "outputs": [],
   "source": [
    "# add a new key-value to the above dictionary"
   ]
  },
  {
   "cell_type": "code",
   "execution_count": 12,
   "id": "accc89b9",
   "metadata": {},
   "outputs": [
    {
     "name": "stdout",
     "output_type": "stream",
     "text": [
      "{'username': 'codetraining accademy', 'first name': 'code training', 'last name': 'accademy', 'dob': '01-01-1999', 'pwd': '543652', 'location': 'farzicafe'}\n"
     ]
    }
   ],
   "source": [
    "useraccount['location']='farzicafe'\n",
    "print(useraccount)"
   ]
  },
  {
   "cell_type": "code",
   "execution_count": null,
   "id": "48752a3f",
   "metadata": {},
   "outputs": [],
   "source": []
  },
  {
   "cell_type": "code",
   "execution_count": null,
   "id": "0ac571b3",
   "metadata": {},
   "outputs": [],
   "source": [
    "# how to delete the key-value pairs from a dictionary"
   ]
  },
  {
   "cell_type": "code",
   "execution_count": 13,
   "id": "3267aa95",
   "metadata": {},
   "outputs": [
    {
     "name": "stdout",
     "output_type": "stream",
     "text": [
      "{'color': 'yellow', 'point': 5, 'starting_point': 0, 'current_position': 10, 'points': 10}\n"
     ]
    }
   ],
   "source": [
    "print(alien)"
   ]
  },
  {
   "cell_type": "code",
   "execution_count": 14,
   "id": "239da641",
   "metadata": {},
   "outputs": [
    {
     "name": "stdout",
     "output_type": "stream",
     "text": [
      "{'color': 'yellow', 'point': 5, 'current_position': 10, 'points': 10}\n"
     ]
    }
   ],
   "source": [
    "del alien['starting_point']\n",
    "print(alien)"
   ]
  },
  {
   "cell_type": "code",
   "execution_count": null,
   "id": "e88aa5b3",
   "metadata": {},
   "outputs": [],
   "source": []
  },
  {
   "cell_type": "code",
   "execution_count": null,
   "id": "53495fdb",
   "metadata": {},
   "outputs": [],
   "source": [
    "## for loop implementation on top of a dictionary"
   ]
  },
  {
   "cell_type": "code",
   "execution_count": 15,
   "id": "fb366713",
   "metadata": {},
   "outputs": [
    {
     "ename": "NameError",
     "evalue": "name 'mainvar' is not defined",
     "output_type": "error",
     "traceback": [
      "\u001b[1;31m---------------------------------------------------------------------------\u001b[0m",
      "\u001b[1;31mNameError\u001b[0m                                 Traceback (most recent call last)",
      "\u001b[1;32m<ipython-input-15-79cff90acbb9>\u001b[0m in \u001b[0;36m<module>\u001b[1;34m\u001b[0m\n\u001b[1;32m----> 1\u001b[1;33m \u001b[1;32mfor\u001b[0m \u001b[0mtempvar\u001b[0m \u001b[1;32min\u001b[0m \u001b[0mmainvar\u001b[0m\u001b[1;33m:\u001b[0m\u001b[1;33m\u001b[0m\u001b[1;33m\u001b[0m\u001b[0m\n\u001b[0m\u001b[0;32m      2\u001b[0m     \u001b[0mprint\u001b[0m\u001b[1;33m(\u001b[0m\u001b[0mtempvar\u001b[0m\u001b[1;33m)\u001b[0m\u001b[1;33m\u001b[0m\u001b[1;33m\u001b[0m\u001b[0m\n",
      "\u001b[1;31mNameError\u001b[0m: name 'mainvar' is not defined"
     ]
    }
   ],
   "source": [
    "for tempvar in mainvar:\n",
    "    print(tempvar)"
   ]
  },
  {
   "cell_type": "code",
   "execution_count": 17,
   "id": "9b89104f",
   "metadata": {},
   "outputs": [
    {
     "name": "stdout",
     "output_type": "stream",
     "text": [
      "color\n",
      "yellow\n",
      "point\n",
      "5\n",
      "current_position\n",
      "10\n",
      "points\n",
      "10\n"
     ]
    }
   ],
   "source": [
    "for k,v in alien.items():\n",
    "    print(k)\n",
    "    print(v)"
   ]
  },
  {
   "cell_type": "code",
   "execution_count": 19,
   "id": "427091ab",
   "metadata": {},
   "outputs": [
    {
     "name": "stdout",
     "output_type": "stream",
     "text": [
      "username\n",
      "codetraining accademy\n",
      "first name\n",
      "code training\n",
      "last name\n",
      "accademy\n",
      "dob\n",
      "01-01-1999\n",
      "pwd\n",
      "543652\n",
      "location\n",
      "farzicafe\n"
     ]
    }
   ],
   "source": [
    "for a,b in useraccount.items():\n",
    "    print(a)\n",
    "    print(b)"
   ]
  },
  {
   "cell_type": "code",
   "execution_count": null,
   "id": "d528586d",
   "metadata": {},
   "outputs": [],
   "source": []
  },
  {
   "cell_type": "code",
   "execution_count": null,
   "id": "f7d65bd2",
   "metadata": {},
   "outputs": [],
   "source": [
    "# enhancement of the code "
   ]
  },
  {
   "cell_type": "code",
   "execution_count": 20,
   "id": "0884e9d4",
   "metadata": {},
   "outputs": [
    {
     "name": "stdout",
     "output_type": "stream",
     "text": [
      "key :username\n",
      "value :codetraining accademy\n",
      "key :first name\n",
      "value :code training\n",
      "key :last name\n",
      "value :accademy\n",
      "key :dob\n",
      "value :01-01-1999\n",
      "key :pwd\n",
      "value :543652\n",
      "key :location\n",
      "value :farzicafe\n"
     ]
    }
   ],
   "source": [
    "for a,b in useraccount.items():\n",
    "    print(f'key :{a}')\n",
    "    print(f'value :{b}')"
   ]
  },
  {
   "cell_type": "code",
   "execution_count": 23,
   "id": "06ff476e",
   "metadata": {},
   "outputs": [
    {
     "name": "stdout",
     "output_type": "stream",
     "text": [
      "key :username\n",
      "key :codetraining accademy \n",
      "\n",
      "key :first name\n",
      "key :code training \n",
      "\n",
      "key :last name\n",
      "key :accademy \n",
      "\n",
      "key :dob\n",
      "key :01-01-1999 \n",
      "\n",
      "key :pwd\n",
      "key :543652 \n",
      "\n",
      "key :location\n",
      "key :farzicafe \n",
      "\n"
     ]
    }
   ],
   "source": [
    "for a,b in useraccount.items():\n",
    "    print(f'key :{a}')\n",
    "    print(f'key :{b} \\n')"
   ]
  },
  {
   "cell_type": "code",
   "execution_count": null,
   "id": "6a9edc40",
   "metadata": {},
   "outputs": [],
   "source": []
  },
  {
   "cell_type": "code",
   "execution_count": null,
   "id": "cdd0856f",
   "metadata": {},
   "outputs": [],
   "source": [
    "req: i want to get only the keys from the above"
   ]
  },
  {
   "cell_type": "code",
   "execution_count": 24,
   "id": "e2d0f93d",
   "metadata": {},
   "outputs": [
    {
     "name": "stdout",
     "output_type": "stream",
     "text": [
      "key : username\n",
      "key : first name\n",
      "key : last name\n",
      "key : dob\n",
      "key : pwd\n",
      "key : location\n"
     ]
    }
   ],
   "source": [
    "for a in useraccount.keys():\n",
    "    print(f'key : {a}')"
   ]
  },
  {
   "cell_type": "code",
   "execution_count": null,
   "id": "cdf662a3",
   "metadata": {},
   "outputs": [],
   "source": [
    "req: i want to get only the values from the above"
   ]
  },
  {
   "cell_type": "code",
   "execution_count": 25,
   "id": "07f58e57",
   "metadata": {},
   "outputs": [
    {
     "name": "stdout",
     "output_type": "stream",
     "text": [
      "values : username\n",
      "values : first name\n",
      "values : last name\n",
      "values : dob\n",
      "values : pwd\n",
      "values : location\n"
     ]
    }
   ],
   "source": [
    "for b in useraccount.keys():\n",
    "    print(f'values : {b}')"
   ]
  },
  {
   "cell_type": "code",
   "execution_count": null,
   "id": "0ad59bce",
   "metadata": {},
   "outputs": [],
   "source": []
  },
  {
   "cell_type": "code",
   "execution_count": null,
   "id": "51e93693",
   "metadata": {},
   "outputs": [],
   "source": []
  },
  {
   "cell_type": "code",
   "execution_count": null,
   "id": "f25b7447",
   "metadata": {},
   "outputs": [],
   "source": []
  },
  {
   "cell_type": "code",
   "execution_count": null,
   "id": "e3d66141",
   "metadata": {},
   "outputs": [],
   "source": []
  },
  {
   "cell_type": "code",
   "execution_count": null,
   "id": "f731041f",
   "metadata": {},
   "outputs": [],
   "source": []
  },
  {
   "cell_type": "code",
   "execution_count": null,
   "id": "28bdc320",
   "metadata": {},
   "outputs": [],
   "source": []
  }
 ],
 "metadata": {
  "kernelspec": {
   "display_name": "Python 3",
   "language": "python",
   "name": "python3"
  },
  "language_info": {
   "codemirror_mode": {
    "name": "ipython",
    "version": 3
   },
   "file_extension": ".py",
   "mimetype": "text/x-python",
   "name": "python",
   "nbconvert_exporter": "python",
   "pygments_lexer": "ipython3",
   "version": "3.8.8"
  }
 },
 "nbformat": 4,
 "nbformat_minor": 5
}
