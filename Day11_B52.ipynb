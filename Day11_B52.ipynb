{
 "cells": [
  {
   "cell_type": "code",
   "execution_count": null,
   "id": "17e6cbb9",
   "metadata": {},
   "outputs": [],
   "source": [
    "#Introduction to python classes"
   ]
  },
  {
   "cell_type": "code",
   "execution_count": null,
   "id": "d0d7367b",
   "metadata": {},
   "outputs": [],
   "source": [
    "req: Create a class name called greet: it need to have the below methods\n",
    "        1. Createname-->It needs to accept the input from the user\n",
    "        2. displayname--> Thi method needs to display the name of the user\n",
    "        3. greetuser--> This method need to greet the user"
   ]
  },
  {
   "cell_type": "code",
   "execution_count": 14,
   "id": "84cd6e71",
   "metadata": {},
   "outputs": [
    {
     "name": "stdout",
     "output_type": "stream",
     "text": [
      "vivek\n",
      "Hello, Good eve....,vivek\n"
     ]
    }
   ],
   "source": [
    "class Greet:\n",
    "    def createname(self,username):\n",
    "        self.username=username\n",
    "        \n",
    "    def displayname(self):\n",
    "        print(self.username)\n",
    "        \n",
    "    def greetuser(self):\n",
    "        print(f\"Hello, Good eve....,{self.username}\")\n",
    "        \n",
    "test=Greet()\n",
    "test.createname(\"vivek\")\n",
    "test.displayname()\n",
    "test.greetuser()"
   ]
  },
  {
   "cell_type": "code",
   "execution_count": null,
   "id": "51789696",
   "metadata": {},
   "outputs": [],
   "source": []
  },
  {
   "cell_type": "code",
   "execution_count": null,
   "id": "713127e2",
   "metadata": {},
   "outputs": [],
   "source": []
  },
  {
   "cell_type": "code",
   "execution_count": null,
   "id": "4b17b26b",
   "metadata": {},
   "outputs": [],
   "source": []
  },
  {
   "cell_type": "code",
   "execution_count": null,
   "id": "33a4328b",
   "metadata": {},
   "outputs": [],
   "source": []
  },
  {
   "cell_type": "code",
   "execution_count": null,
   "id": "c4856e14",
   "metadata": {},
   "outputs": [],
   "source": []
  },
  {
   "cell_type": "code",
   "execution_count": null,
   "id": "274be4e0",
   "metadata": {},
   "outputs": [],
   "source": []
  },
  {
   "cell_type": "code",
   "execution_count": null,
   "id": "0860c4e3",
   "metadata": {},
   "outputs": [],
   "source": []
  },
  {
   "cell_type": "code",
   "execution_count": null,
   "id": "58a278e4",
   "metadata": {},
   "outputs": [],
   "source": []
  },
  {
   "cell_type": "code",
   "execution_count": null,
   "id": "859bea46",
   "metadata": {},
   "outputs": [],
   "source": []
  }
 ],
 "metadata": {
  "kernelspec": {
   "display_name": "Python 3",
   "language": "python",
   "name": "python3"
  },
  "language_info": {
   "codemirror_mode": {
    "name": "ipython",
    "version": 3
   },
   "file_extension": ".py",
   "mimetype": "text/x-python",
   "name": "python",
   "nbconvert_exporter": "python",
   "pygments_lexer": "ipython3",
   "version": "3.8.8"
  }
 },
 "nbformat": 4,
 "nbformat_minor": 5
}
