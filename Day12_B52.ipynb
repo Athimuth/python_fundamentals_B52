{
 "cells": [
  {
   "cell_type": "code",
   "execution_count": null,
   "id": "4b61a615",
   "metadata": {},
   "outputs": [],
   "source": [
    "## Introduction to constructor"
   ]
  },
  {
   "cell_type": "code",
   "execution_count": null,
   "id": "10556ea3",
   "metadata": {},
   "outputs": [],
   "source": [
    "How to define a constructor\n",
    "def _init_()"
   ]
  },
  {
   "cell_type": "code",
   "execution_count": null,
   "id": "167153c5",
   "metadata": {},
   "outputs": [],
   "source": []
  },
  {
   "cell_type": "code",
   "execution_count": null,
   "id": "1eaef1cc",
   "metadata": {},
   "outputs": [],
   "source": [
    "# Create a Dog class with the below methods:\n",
    "#1. jump\n",
    "#2. rollover\n",
    "#3. eat\n",
    "#4. sleep\n",
    "#5. details\n"
   ]
  },
  {
   "cell_type": "code",
   "execution_count": 13,
   "id": "645be3a5",
   "metadata": {},
   "outputs": [
    {
     "name": "stdout",
     "output_type": "stream",
     "text": [
      "rex is now jumping on the command\n",
      "rex is now rolling over the command\n",
      "rex is now eating\n",
      "rex is now sleeping\n",
      "My dog name is rex\n",
      "rex is of 2 years old\n"
     ]
    }
   ],
   "source": [
    "class Dog:\n",
    "    def __init__(self,name,age):\n",
    "        self.name=name\n",
    "        self.age=age\n",
    "        \n",
    "    def jump(self):\n",
    "        print(f\"{self.name} is now jumping on the command\")\n",
    "    \n",
    "    def rollover(self):\n",
    "        print(f\"{self.name} is now rolling over the command\")\n",
    "    \n",
    "    def eat(self):\n",
    "        print(f\"{self.name} is now eating\")\n",
    "    \n",
    "    def sleep(self):\n",
    "        print(f\"{self.name} is now sleeping\")\n",
    "   \n",
    "    def details(self):\n",
    "        print(f\"My dog name is {self.name}\")\n",
    "        print(f\"{self.name} is of {self.age} years old\")\n",
    "              \n",
    "test=Dog('rex',2)\n",
    "test.jump()\n",
    "test.rollover()\n",
    "test.eat()\n",
    "test.sleep()\n",
    "test.details()"
   ]
  },
  {
   "cell_type": "code",
   "execution_count": null,
   "id": "e7ddbae2",
   "metadata": {},
   "outputs": [],
   "source": []
  },
  {
   "cell_type": "code",
   "execution_count": null,
   "id": "4e0b99e4",
   "metadata": {},
   "outputs": [],
   "source": []
  },
  {
   "cell_type": "code",
   "execution_count": null,
   "id": "f58a27e2",
   "metadata": {},
   "outputs": [],
   "source": []
  },
  {
   "cell_type": "code",
   "execution_count": null,
   "id": "84111994",
   "metadata": {},
   "outputs": [],
   "source": []
  },
  {
   "cell_type": "code",
   "execution_count": null,
   "id": "b384765e",
   "metadata": {},
   "outputs": [],
   "source": []
  },
  {
   "cell_type": "code",
   "execution_count": null,
   "id": "3df6465d",
   "metadata": {},
   "outputs": [],
   "source": []
  },
  {
   "cell_type": "code",
   "execution_count": null,
   "id": "7e836017",
   "metadata": {},
   "outputs": [],
   "source": []
  },
  {
   "cell_type": "code",
   "execution_count": null,
   "id": "bcee1697",
   "metadata": {},
   "outputs": [],
   "source": []
  },
  {
   "cell_type": "code",
   "execution_count": null,
   "id": "f86546c3",
   "metadata": {},
   "outputs": [],
   "source": []
  },
  {
   "cell_type": "code",
   "execution_count": null,
   "id": "7dbb2e51",
   "metadata": {},
   "outputs": [],
   "source": []
  },
  {
   "cell_type": "code",
   "execution_count": null,
   "id": "64472594",
   "metadata": {},
   "outputs": [],
   "source": []
  },
  {
   "cell_type": "code",
   "execution_count": null,
   "id": "075938ad",
   "metadata": {},
   "outputs": [],
   "source": []
  }
 ],
 "metadata": {
  "kernelspec": {
   "display_name": "Python 3",
   "language": "python",
   "name": "python3"
  },
  "language_info": {
   "codemirror_mode": {
    "name": "ipython",
    "version": 3
   },
   "file_extension": ".py",
   "mimetype": "text/x-python",
   "name": "python",
   "nbconvert_exporter": "python",
   "pygments_lexer": "ipython3",
   "version": "3.8.8"
  }
 },
 "nbformat": 4,
 "nbformat_minor": 5
}
